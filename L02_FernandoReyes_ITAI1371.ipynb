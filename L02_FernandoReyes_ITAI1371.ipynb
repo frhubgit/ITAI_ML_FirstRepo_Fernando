{
  "cells": [
    {
      "cell_type": "markdown",
      "metadata": {},
      "source": [
        "# Module 2 Lab Exercise: Tools Used in Machine Learning\n",
        "\n",
        "## Learning Objectives\n",
        "By the end of this lab, you will be able to:\n",
        "- Set up and navigate Jupyter Notebook, Google Colab, and VS Code environments\n",
        "- Install and import essential Python libraries for machine learning\n",
        "- Create and format professional documentation using Markdown\n",
        "- Initialize a GitHub repository for your ML projects\n",
        "- Understand the basic workflow of data science tools\n",
        "\n",
        "## Prerequisites\n",
        "- Basic understanding of what machine learning is (Module 1)\n",
        "- Access to internet for downloading tools and datasets\n",
        "- A Google account (for Colab) or local Python installation\n",
        "\n",
        "---\n",
        "\n",
        "## Part 1: Environment Setup and Tool Overview\n",
        "\n",
        "### What are the main tools we'll use in this course?\n",
        "\n",
        "**Jupyter Notebook/Google Colab**: Interactive computing environments where you can write code, see results immediately, and document your work with text and visualizations.\n",
        "\n",
        "**Python Libraries**: Pre-written code packages that make machine learning tasks easier:\n",
        "- **Pandas**: For working with data (like Excel, but more powerful)\n",
        "- **NumPy**: For mathematical operations on arrays of numbers\n",
        "- **Matplotlib**: For creating charts and graphs\n",
        "- **Scikit-learn**: The main library for machine learning algorithms\n",
        "\n",
        "**GitHub**: A platform to store, share, and collaborate on code projects\n",
        "\n",
        "**VS Code**: A powerful text editor for writing and debugging code\n",
        "\n",
        "Let's start by setting up our environment!"
      ]
    },
    {
      "cell_type": "markdown",
      "metadata": {},
      "source": [
        "## Environment Setup Instructions\n",
        "\n",
        "### Option 1: Google Colab (Recommended for Beginners)\n",
        "1. Go to [colab.research.google.com](https://colab.research.google.com)\n",
        "2. Sign in with your Google account\n",
        "3. Click \"New Notebook\"\n",
        "4. You're ready to go! Libraries are pre-installed.\n",
        "\n",
        "### Option 2: Local Jupyter Notebook\n",
        "1. Install Python from [python.org](https://python.org)\n",
        "2. Open terminal/command prompt\n",
        "3. Run: `pip install jupyter pandas numpy matplotlib scikit-learn`\n",
        "4. Run: `jupyter notebook`\n",
        "5. Create a new notebook\n",
        "\n",
        "### Option 3: VS Code\n",
        "1. Download VS Code from [code.visualstudio.com](https://code.visualstudio.com)\n",
        "2. Install Python extension\n",
        "3. Install Jupyter extension\n",
        "4. Create a new .ipynb file\n",
        "\n",
        "**For this lab, we recommend starting with Google Colab as it requires no installation.**"
      ]
    },
    {
      "cell_type": "code",
      "execution_count": 3,
      "metadata": {},
      "outputs": [
        {
          "name": "stdout",
          "output_type": "stream",
          "text": [
            "Requirement already satisfied: pandas in c:\\users\\rouge\\appdata\\local\\programs\\python\\python311\\lib\\site-packages (2.3.2)\n",
            "Requirement already satisfied: numpy in c:\\users\\rouge\\appdata\\local\\programs\\python\\python311\\lib\\site-packages (2.3.3)\n",
            "Collecting matplotlib\n",
            "  Downloading matplotlib-3.10.6-cp311-cp311-win_amd64.whl.metadata (11 kB)\n",
            "Collecting scikit-learn\n",
            "  Downloading scikit_learn-1.7.2-cp311-cp311-win_amd64.whl.metadata (11 kB)\n",
            "Requirement already satisfied: python-dateutil>=2.8.2 in c:\\users\\rouge\\appdata\\roaming\\python\\python311\\site-packages (from pandas) (2.9.0.post0)\n",
            "Requirement already satisfied: pytz>=2020.1 in c:\\users\\rouge\\appdata\\local\\programs\\python\\python311\\lib\\site-packages (from pandas) (2025.2)\n",
            "Requirement already satisfied: tzdata>=2022.7 in c:\\users\\rouge\\appdata\\local\\programs\\python\\python311\\lib\\site-packages (from pandas) (2025.2)\n",
            "Collecting contourpy>=1.0.1 (from matplotlib)\n",
            "  Downloading contourpy-1.3.3-cp311-cp311-win_amd64.whl.metadata (5.5 kB)\n",
            "Collecting cycler>=0.10 (from matplotlib)\n",
            "  Downloading cycler-0.12.1-py3-none-any.whl.metadata (3.8 kB)\n",
            "Collecting fonttools>=4.22.0 (from matplotlib)\n",
            "  Downloading fonttools-4.60.0-cp311-cp311-win_amd64.whl.metadata (113 kB)\n",
            "     ---------------------------------------- 0.0/113.8 kB ? eta -:--:--\n",
            "     --- ------------------------------------ 10.2/113.8 kB ? eta -:--:--\n",
            "     ----------------------- ------------- 71.7/113.8 kB 991.0 kB/s eta 0:00:01\n",
            "     -------------------------------------- 113.8/113.8 kB 1.1 MB/s eta 0:00:00\n",
            "Collecting kiwisolver>=1.3.1 (from matplotlib)\n",
            "  Downloading kiwisolver-1.4.9-cp311-cp311-win_amd64.whl.metadata (6.4 kB)\n",
            "Requirement already satisfied: packaging>=20.0 in c:\\users\\rouge\\appdata\\roaming\\python\\python311\\site-packages (from matplotlib) (25.0)\n",
            "Collecting pillow>=8 (from matplotlib)\n",
            "  Downloading pillow-11.3.0-cp311-cp311-win_amd64.whl.metadata (9.2 kB)\n",
            "Collecting pyparsing>=2.3.1 (from matplotlib)\n",
            "  Downloading pyparsing-3.2.5-py3-none-any.whl.metadata (5.0 kB)\n",
            "Collecting scipy>=1.8.0 (from scikit-learn)\n",
            "  Downloading scipy-1.16.2-cp311-cp311-win_amd64.whl.metadata (60 kB)\n",
            "     ---------------------------------------- 0.0/60.8 kB ? eta -:--:--\n",
            "     ---------------------------------------- 60.8/60.8 kB 3.2 MB/s eta 0:00:00\n",
            "Collecting joblib>=1.2.0 (from scikit-learn)\n",
            "  Downloading joblib-1.5.2-py3-none-any.whl.metadata (5.6 kB)\n",
            "Collecting threadpoolctl>=3.1.0 (from scikit-learn)\n",
            "  Downloading threadpoolctl-3.6.0-py3-none-any.whl.metadata (13 kB)\n",
            "Requirement already satisfied: six>=1.5 in c:\\users\\rouge\\appdata\\roaming\\python\\python311\\site-packages (from python-dateutil>=2.8.2->pandas) (1.17.0)\n",
            "Downloading matplotlib-3.10.6-cp311-cp311-win_amd64.whl (8.1 MB)\n",
            "   ---------------------------------------- 0.0/8.1 MB ? eta -:--:--\n",
            "   - -------------------------------------- 0.2/8.1 MB 15.0 MB/s eta 0:00:01\n",
            "   ----- ---------------------------------- 1.0/8.1 MB 13.3 MB/s eta 0:00:01\n",
            "   ------------ --------------------------- 2.5/8.1 MB 20.2 MB/s eta 0:00:01\n",
            "   --------------- ------------------------ 3.1/8.1 MB 18.2 MB/s eta 0:00:01\n",
            "   ---------------------- ----------------- 4.6/8.1 MB 21.2 MB/s eta 0:00:01\n",
            "   ------------------------------ --------- 6.1/8.1 MB 23.1 MB/s eta 0:00:01\n",
            "   ------------------------------------- -- 7.5/8.1 MB 24.1 MB/s eta 0:00:01\n",
            "   ---------------------------------------  8.1/8.1 MB 23.5 MB/s eta 0:00:01\n",
            "   ---------------------------------------- 8.1/8.1 MB 22.6 MB/s eta 0:00:00\n",
            "Downloading scikit_learn-1.7.2-cp311-cp311-win_amd64.whl (8.9 MB)\n",
            "   ---------------------------------------- 0.0/8.9 MB ? eta -:--:--\n",
            "   ------ --------------------------------- 1.4/8.9 MB 43.3 MB/s eta 0:00:01\n",
            "   ------------- -------------------------- 2.9/8.9 MB 37.3 MB/s eta 0:00:01\n",
            "   ------------------ --------------------- 4.2/8.9 MB 33.2 MB/s eta 0:00:01\n",
            "   ----------------------- ---------------- 5.2/8.9 MB 30.1 MB/s eta 0:00:01\n",
            "   ------------------------- -------------- 5.6/8.9 MB 30.1 MB/s eta 0:00:01\n",
            "   ------------------------------- -------- 7.0/8.9 MB 26.3 MB/s eta 0:00:01\n",
            "   ------------------------------------- -- 8.3/8.9 MB 26.7 MB/s eta 0:00:01\n",
            "   ---------------------------------------- 8.9/8.9 MB 24.7 MB/s eta 0:00:00\n",
            "Downloading contourpy-1.3.3-cp311-cp311-win_amd64.whl (225 kB)\n",
            "   ---------------------------------------- 0.0/225.2 kB ? eta -:--:--\n",
            "   --------------------------------------- 225.2/225.2 kB 14.3 MB/s eta 0:00:00\n",
            "Downloading cycler-0.12.1-py3-none-any.whl (8.3 kB)\n",
            "Downloading fonttools-4.60.0-cp311-cp311-win_amd64.whl (2.3 MB)\n",
            "   ---------------------------------------- 0.0/2.3 MB ? eta -:--:--\n",
            "   ---------------------- ----------------- 1.3/2.3 MB 41.6 MB/s eta 0:00:01\n",
            "   ---------------------------------------  2.3/2.3 MB 29.0 MB/s eta 0:00:01\n",
            "   ---------------------------------------- 2.3/2.3 MB 24.1 MB/s eta 0:00:00\n",
            "Downloading joblib-1.5.2-py3-none-any.whl (308 kB)\n",
            "   ---------------------------------------- 0.0/308.4 kB ? eta -:--:--\n",
            "   --------------------------------------- 308.4/308.4 kB 18.6 MB/s eta 0:00:00\n",
            "Downloading kiwisolver-1.4.9-cp311-cp311-win_amd64.whl (73 kB)\n",
            "   ---------------------------------------- 0.0/73.8 kB ? eta -:--:--\n",
            "   ---------------------------------------- 73.8/73.8 kB ? eta 0:00:00\n",
            "Downloading pillow-11.3.0-cp311-cp311-win_amd64.whl (7.0 MB)\n",
            "   ---------------------------------------- 0.0/7.0 MB ? eta -:--:--\n",
            "   ------- -------------------------------- 1.2/7.0 MB 39.6 MB/s eta 0:00:01\n",
            "   --------------- ------------------------ 2.7/7.0 MB 34.5 MB/s eta 0:00:01\n",
            "   ----------------------- ---------------- 4.1/7.0 MB 32.6 MB/s eta 0:00:01\n",
            "   ------------------------------- -------- 5.5/7.0 MB 32.0 MB/s eta 0:00:01\n",
            "   ---------------------------------------  7.0/7.0 MB 31.8 MB/s eta 0:00:01\n",
            "   ---------------------------------------- 7.0/7.0 MB 29.8 MB/s eta 0:00:00\n",
            "Downloading pyparsing-3.2.5-py3-none-any.whl (113 kB)\n",
            "   ---------------------------------------- 0.0/113.9 kB ? eta -:--:--\n",
            "   ---------------------------------------- 113.9/113.9 kB ? eta 0:00:00\n",
            "Downloading scipy-1.16.2-cp311-cp311-win_amd64.whl (38.7 MB)\n",
            "   ---------------------------------------- 0.0/38.7 MB ? eta -:--:--\n",
            "   - -------------------------------------- 1.6/38.7 MB 34.6 MB/s eta 0:00:02\n",
            "   -- ------------------------------------- 2.9/38.7 MB 30.7 MB/s eta 0:00:02\n",
            "   ---- ----------------------------------- 4.4/38.7 MB 31.3 MB/s eta 0:00:02\n",
            "   ------ --------------------------------- 5.8/38.7 MB 31.0 MB/s eta 0:00:02\n",
            "   ------- -------------------------------- 7.3/38.7 MB 31.2 MB/s eta 0:00:02\n",
            "   -------- ------------------------------- 8.7/38.7 MB 32.5 MB/s eta 0:00:01\n",
            "   ---------- ----------------------------- 10.0/38.7 MB 30.5 MB/s eta 0:00:01\n",
            "   ----------- ---------------------------- 11.5/38.7 MB 31.2 MB/s eta 0:00:01\n",
            "   ------------- -------------------------- 12.8/38.7 MB 31.2 MB/s eta 0:00:01\n",
            "   -------------- ------------------------- 14.3/38.7 MB 29.7 MB/s eta 0:00:01\n",
            "   --------------- ------------------------ 15.0/38.7 MB 29.8 MB/s eta 0:00:01\n",
            "   ----------------- ---------------------- 16.5/38.7 MB 29.7 MB/s eta 0:00:01\n",
            "   ------------------ --------------------- 17.9/38.7 MB 27.3 MB/s eta 0:00:01\n",
            "   ------------------- -------------------- 19.3/38.7 MB 28.5 MB/s eta 0:00:01\n",
            "   --------------------- ------------------ 20.7/38.7 MB 28.4 MB/s eta 0:00:01\n",
            "   ---------------------- ----------------- 22.2/38.7 MB 29.8 MB/s eta 0:00:01\n",
            "   ------------------------ --------------- 23.5/38.7 MB 28.5 MB/s eta 0:00:01\n",
            "   ------------------------- -------------- 25.1/38.7 MB 29.7 MB/s eta 0:00:01\n",
            "   --------------------------- ------------ 26.4/38.7 MB 31.2 MB/s eta 0:00:01\n",
            "   ---------------------------- ----------- 27.8/38.7 MB 31.2 MB/s eta 0:00:01\n",
            "   ------------------------------ --------- 29.3/38.7 MB 31.2 MB/s eta 0:00:01\n",
            "   ------------------------------- -------- 30.6/38.7 MB 29.7 MB/s eta 0:00:01\n",
            "   -------------------------------- ------- 31.8/38.7 MB 29.7 MB/s eta 0:00:01\n",
            "   ---------------------------------- ----- 33.2/38.7 MB 29.8 MB/s eta 0:00:01\n",
            "   ----------------------------------- ---- 34.7/38.7 MB 29.8 MB/s eta 0:00:01\n",
            "   ------------------------------------- -- 36.0/38.7 MB 29.7 MB/s eta 0:00:01\n",
            "   -------------------------------------- - 37.6/38.7 MB 29.7 MB/s eta 0:00:01\n",
            "   ---------------------------------------  38.7/38.7 MB 28.5 MB/s eta 0:00:01\n",
            "   ---------------------------------------  38.7/38.7 MB 28.5 MB/s eta 0:00:01\n",
            "   ---------------------------------------- 38.7/38.7 MB 24.3 MB/s eta 0:00:00\n",
            "Downloading threadpoolctl-3.6.0-py3-none-any.whl (18 kB)\n",
            "Installing collected packages: threadpoolctl, scipy, pyparsing, pillow, kiwisolver, joblib, fonttools, cycler, contourpy, scikit-learn, matplotlib\n",
            "Successfully installed contourpy-1.3.3 cycler-0.12.1 fonttools-4.60.0 joblib-1.5.2 kiwisolver-1.4.9 matplotlib-3.10.6 pillow-11.3.0 pyparsing-3.2.5 scikit-learn-1.7.2 scipy-1.16.2 threadpoolctl-3.6.0\n"
          ]
        },
        {
          "name": "stderr",
          "output_type": "stream",
          "text": [
            "\n",
            "[notice] A new release of pip is available: 24.0 -> 25.2\n",
            "[notice] To update, run: python.exe -m pip install --upgrade pip\n"
          ]
        }
      ],
      "source": [
        "!pip install pandas numpy matplotlib scikit-learn"
      ]
    },
    {
      "cell_type": "code",
      "execution_count": 4,
      "metadata": {},
      "outputs": [
        {
          "name": "stderr",
          "output_type": "stream",
          "text": [
            "Matplotlib is building the font cache; this may take a moment.\n"
          ]
        },
        {
          "name": "stdout",
          "output_type": "stream",
          "text": [
            "✅ All libraries imported successfully!\n",
            "Pandas version: 2.3.2\n",
            "NumPy version: 2.3.3\n"
          ]
        }
      ],
      "source": [
        "# Install required libraries (uncomment if needed)\n",
        "# !pip install pandas numpy matplotlib scikit-learn\n",
        "\n",
        "# Import libraries with standard aliases\n",
        "import pandas as pd\n",
        "import numpy as np\n",
        "import matplotlib.pyplot as plt\n",
        "from sklearn import datasets\n",
        "import warnings\n",
        "warnings.filterwarnings('ignore')  # Hide warning messages for cleaner output\n",
        "\n",
        "print(\"✅ All libraries imported successfully!\")\n",
        "print(f\"Pandas version: {pd.__version__}\")\n",
        "print(f\"NumPy version: {np.__version__}\")"
      ]
    },
    {
      "cell_type": "markdown",
      "metadata": {},
      "source": [
        "## Part 2: Loading and Exploring Your First Dataset\n",
        "\n",
        "We'll use the famous Iris dataset - a classic dataset for beginners. It contains measurements of iris flowers from three different species."
      ]
    },
    {
      "cell_type": "code",
      "execution_count": 5,
      "metadata": {},
      "outputs": [
        {
          "name": "stdout",
          "output_type": "stream",
          "text": [
            "Dataset loaded successfully!\n",
            "Dataset shape: (150, 4)\n",
            "Features: ['sepal length (cm)', 'sepal width (cm)', 'petal length (cm)', 'petal width (cm)']\n",
            "Target classes: ['setosa' 'versicolor' 'virginica']\n"
          ]
        }
      ],
      "source": [
        "# Load a simple dataset (Iris flowers - a classic beginner dataset)\n",
        "from sklearn.datasets import load_iris\n",
        "\n",
        "# Load the data\n",
        "iris = load_iris()\n",
        "print(\"Dataset loaded successfully!\")\n",
        "print(f\"Dataset shape: {iris.data.shape}\")\n",
        "print(f\"Features: {iris.feature_names}\")\n",
        "print(f\"Target classes: {iris.target_names}\")"
      ]
    },
    {
      "cell_type": "code",
      "execution_count": 6,
      "metadata": {},
      "outputs": [
        {
          "name": "stdout",
          "output_type": "stream",
          "text": [
            "First 5 rows of our dataset:\n",
            "   sepal length (cm)  sepal width (cm)  petal length (cm)  petal width (cm)  \\\n",
            "0                5.1               3.5                1.4               0.2   \n",
            "1                4.9               3.0                1.4               0.2   \n",
            "2                4.7               3.2                1.3               0.2   \n",
            "3                4.6               3.1                1.5               0.2   \n",
            "4                5.0               3.6                1.4               0.2   \n",
            "\n",
            "  species  \n",
            "0  setosa  \n",
            "1  setosa  \n",
            "2  setosa  \n",
            "3  setosa  \n",
            "4  setosa  \n",
            "\n",
            "Dataset info:\n",
            "<class 'pandas.core.frame.DataFrame'>\n",
            "RangeIndex: 150 entries, 0 to 149\n",
            "Data columns (total 5 columns):\n",
            " #   Column             Non-Null Count  Dtype  \n",
            "---  ------             --------------  -----  \n",
            " 0   sepal length (cm)  150 non-null    float64\n",
            " 1   sepal width (cm)   150 non-null    float64\n",
            " 2   petal length (cm)  150 non-null    float64\n",
            " 3   petal width (cm)   150 non-null    float64\n",
            " 4   species            150 non-null    object \n",
            "dtypes: float64(4), object(1)\n",
            "memory usage: 6.0+ KB\n",
            "None\n"
          ]
        }
      ],
      "source": [
        "# Convert to pandas DataFrame for easier handling\n",
        "df = pd.DataFrame(iris.data, columns=iris.feature_names)\n",
        "df['species'] = iris.target_names[iris.target]\n",
        "\n",
        "# Display first few rows\n",
        "print(\"First 5 rows of our dataset:\")\n",
        "print(df.head())\n",
        "\n",
        "print(\"\\nDataset info:\")\n",
        "print(df.info())"
      ]
    },
    {
      "cell_type": "markdown",
      "metadata": {},
      "source": [
        "## Part 3: Creating Your First Visualization\n",
        "\n",
        "Data visualization is crucial in machine learning. Let's create a simple plot to understand our data."
      ]
    },
    {
      "cell_type": "code",
      "execution_count": 7,
      "metadata": {},
      "outputs": [
        {
          "data": {
            "image/png": "[encoded data removed]",
            "text/plain": [
              "<Figure size 1000x600 with 1 Axes>"
            ]
          },
          "metadata": {},
          "output_type": "display_data"
        },
        {
          "name": "stdout",
          "output_type": "stream",
          "text": [
            "🎉 Congratulations! You've created your first data visualization!\n"
          ]
        }
      ],
      "source": [
        "# Create a simple scatter plot\n",
        "plt.figure(figsize=(10, 6))\n",
        "\n",
        "# Plot sepal length vs sepal width, colored by species\n",
        "species_colors = {'setosa': 'red', 'versicolor': 'blue', 'virginica': 'green'}\n",
        "\n",
        "for species in df['species'].unique():\n",
        "    species_data = df[df['species'] == species]\n",
        "    plt.scatter(species_data['sepal length (cm)'], \n",
        "                species_data['sepal width (cm)'],\n",
        "                c=species_colors[species], \n",
        "                label=species, \n",
        "                alpha=0.7)\n",
        "\n",
        "plt.xlabel('Sepal Length (cm)')\n",
        "plt.ylabel('Sepal Width (cm)')\n",
        "plt.title('Iris Dataset: Sepal Length vs Sepal Width')\n",
        "plt.legend()\n",
        "plt.grid(True, alpha=0.3)\n",
        "plt.show()\n",
        "\n",
        "print(\"🎉 Congratulations! You've created your first data visualization!\")"
      ]
    },
    {
      "cell_type": "markdown",
      "metadata": {},
      "source": [
        "## Part 4: Practice with Basic Data Operations\n",
        "\n",
        "Let's practice some basic data analysis operations that you'll use throughout the course."
      ]
    },
    {
      "cell_type": "code",
      "execution_count": 8,
      "metadata": {},
      "outputs": [
        {
          "name": "stdout",
          "output_type": "stream",
          "text": [
            "Basic Statistics for Iris Dataset:\n",
            "========================================\n",
            "\n",
            "Mean values by species:\n",
            "            sepal length (cm)  sepal width (cm)  petal length (cm)  \\\n",
            "species                                                              \n",
            "setosa                  5.006             3.428              1.462   \n",
            "versicolor              5.936             2.770              4.260   \n",
            "virginica               6.588             2.974              5.552   \n",
            "\n",
            "            petal width (cm)  \n",
            "species                       \n",
            "setosa                 0.246  \n",
            "versicolor             1.326  \n",
            "virginica              2.026  \n",
            "\n",
            "Samples per species:\n",
            "species\n",
            "setosa        50\n",
            "versicolor    50\n",
            "virginica     50\n",
            "Name: count, dtype: int64\n"
          ]
        }
      ],
      "source": [
        "# Basic statistical analysis\n",
        "print(\"Basic Statistics for Iris Dataset:\")\n",
        "print(\"=\" * 40)\n",
        "\n",
        "# Calculate mean values for each species\n",
        "species_means = df.groupby('species').mean()\n",
        "print(\"\\nMean values by species:\")\n",
        "print(species_means)\n",
        "\n",
        "# Count samples per species\n",
        "species_counts = df['species'].value_counts()\n",
        "print(\"\\nSamples per species:\")\n",
        "print(species_counts)"
      ]
    },
    {
      "cell_type": "markdown",
      "metadata": {},
      "source": [
        "## Part 5: GitHub and Documentation Best Practices\n",
        "\n",
        "### Why GitHub for Machine Learning?\n",
        "- **Version Control**: Track changes to your code and data\n",
        "- **Collaboration**: Work with others on projects\n",
        "- **Portfolio**: Showcase your work to potential employers\n",
        "- **Backup**: Never lose your work\n",
        "\n",
        "### Basic GitHub Workflow:\n",
        "1. **Create Repository**: A folder for your project\n",
        "2. **Clone/Download**: Get the project on your computer\n",
        "3. **Add Files**: Put your notebooks and data\n",
        "4. **Commit**: Save a snapshot of your changes\n",
        "5. **Push**: Upload changes to GitHub\n",
        "\n",
        "### For This Course:\n",
        "- Create a repository named \"ITAI-1371-ML-Labs\"\n",
        "- Upload each lab notebook as you complete it\n",
        "- Include a README.md file describing your projects\n",
        "\n",
        "**Action Item**: After this lab, create your GitHub account and repository."
      ]
    },
    {
      "cell_type": "markdown",
      "metadata": {},
      "source": [
        "## Assessment: Tool Familiarity Check\n",
        "\n",
        "Complete the following tasks to demonstrate your understanding of the tools:"
      ]
    },
    {
      "cell_type": "code",
      "execution_count": 9,
      "metadata": {},
      "outputs": [
        {
          "name": "stdout",
          "output_type": "stream",
          "text": [
            "Mean sepal length: 5.84 cm\n",
            "Standard deviation: 0.83 cm\n",
            "✅ Task 1 completed successfully!\n"
          ]
        }
      ],
      "source": [
        "# Task 1: Create a simple calculation using NumPy\n",
        "# Calculate the mean and standard deviation of sepal length\n",
        "\n",
        "sepal_lengths = df['sepal length (cm)']\n",
        "\n",
        "# Your code here:\n",
        "mean_sepal_length = np.mean(sepal_lengths)\n",
        "std_sepal_length = np.std(sepal_lengths)\n",
        "\n",
        "print(f\"Mean sepal length: {mean_sepal_length:.2f} cm\")\n",
        "print(f\"Standard deviation: {std_sepal_length:.2f} cm\")\n",
        "\n",
        "# Verification (don't modify)\n",
        "assert isinstance(mean_sepal_length, (float, np.floating)), \"Mean should be a number\"\n",
        "assert isinstance(std_sepal_length, (float, np.floating)), \"Std should be a number\"\n",
        "print(\"✅ Task 1 completed successfully!\")"
      ]
    },
    {
      "cell_type": "code",
      "execution_count": 10,
      "metadata": {},
      "outputs": [
        {
          "data": {
            "image/png": "[encoded data removed]",
            "text/plain": [
              "<Figure size 800x500 with 1 Axes>"
            ]
          },
          "metadata": {},
          "output_type": "display_data"
        },
        {
          "name": "stdout",
          "output_type": "stream",
          "text": [
            "Species distribution: {'setosa': np.int64(50), 'versicolor': np.int64(50), 'virginica': np.int64(50)}\n",
            "✅ Task 2 completed successfully!\n"
          ]
        }
      ],
      "source": [
        "# Task 2: Create a simple bar chart showing species counts\n",
        "species_counts = df['species'].value_counts()\n",
        "\n",
        "plt.figure(figsize=(8, 5))\n",
        "plt.bar(species_counts.index, species_counts.values, color=['red', 'blue', 'green'])\n",
        "plt.title('Number of Samples per Species')\n",
        "plt.xlabel('Species')\n",
        "plt.ylabel('Count')\n",
        "plt.show()\n",
        "\n",
        "print(f\"Species distribution: {dict(species_counts)}\")\n",
        "print(\"✅ Task 2 completed successfully!\")"
      ]
    },
    {
      "cell_type": "markdown",
      "metadata": {},
      "source": [
        "## Your Analysis and Reflection\n",
        "\n",
        "**Instructions**: Complete the analysis below by editing this markdown cell.\n",
        "\n",
        "### My Observations About the Iris Dataset\n",
        "\n",
        "**Dataset Overview:**\n",
        "- Number of samples: 150\n",
        "- Number of features: 4\n",
        "- Number of classes: 3\n",
        "\n",
        "**Key Findings from the Visualization:**\n",
        "1. I observed from the scatter plot that Setosa averages higher sepal widths compared to the other 2 species\n",
        "2. Another observation I made was Versicolor and Virginica have similiar sepal width and length\n",
        "3. Another observation I made is that, in extreme cases, Versicolor includes some of the smallest flowers, while Virginica includes some of the largest\n",
        "\n",
        "**Questions for Further Investigation:**\n",
        "- Can I plot more than just the sepal length and width without cluttering the data plots?\n",
        "- Is it possible to make a model that runs on this data set to classify these plants given measurements with at least a 95% accuracy?\n",
        "\n",
        "**Reflection:**\n",
        "What I learned from this exercise is how the process of how to make visualizations off of inputting databases. I also learned how to analyze the dataplots and make critical observations about the differences and similarities between the plant species.\n",
        "\n",
        "---\n",
        "*Note: This is practice for documenting your machine learning projects professionally.*"
      ]
    },
    {
      "cell_type": "markdown",
      "metadata": {},
      "source": [
        "## Lab Summary and Next Steps\n",
        "\n",
        "### What You've Accomplished:\n",
        "✅ Set up your machine learning development environment  \n",
        "✅ Imported and used essential Python libraries  \n",
        "✅ Loaded and explored your first dataset  \n",
        "✅ Created your first data visualization  \n",
        "✅ Practiced professional documentation with Markdown  \n",
        "✅ Learned about GitHub for project management  \n",
        "\n",
        "### Preparation for Module 3:\n",
        "In the next lab, you'll:\n",
        "- Learn about different types of machine learning\n",
        "- Build your first simple classifier\n",
        "- Understand the complete ML workflow\n",
        "- Work with more complex datasets\n",
        "\n",
        "### Action Items:\n",
        "1. **Create your GitHub account** and repository\n",
        "2. **Upload this completed notebook** to your repository\n",
        "3. **Experiment** with different visualizations using the Iris dataset\n",
        "4. **Practice** Markdown formatting in a new notebook\n",
        "\n",
        "### Resources for Continued Learning:\n",
        "- [Pandas Documentation](https://pandas.pydata.org/docs/)\n",
        "- [Matplotlib Gallery](https://matplotlib.org/stable/gallery/)\n",
        "- [GitHub Guides](https://guides.github.com/)\n",
        "- [Jupyter Notebook Tips](https://jupyter-notebook.readthedocs.io/)\n",
        "\n",
        "**Great job completing Module 2! You're now equipped with the essential tools for machine learning.** 🎉"
      ]
    }
  ],
  "metadata": {
    "kernelspec": {
      "display_name": "Python 3",
      "language": "python",
      "name": "python3"
    },
    "language_info": {
      "codemirror_mode": {
        "name": "ipython",
        "version": 3
      },
      "file_extension": ".py",
      "mimetype": "text/x-python",
      "name": "python",
      "nbconvert_exporter": "python",
      "pygments_lexer": "ipython3",
      "version": "3.11.9"
    }
  },
  "nbformat": 4,
  "nbformat_minor": 4
}
