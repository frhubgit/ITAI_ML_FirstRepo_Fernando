{
  "cells": [
    {
      "cell_type": "markdown",
      "metadata": {},
      "source": [
        "# Module 3 Lab Exercise: Machine Learning Workflow and Types of Learning\n",
        "\n",
        "## Learning Objectives\n",
        "By the end of this lab, you will be able to:\n",
        "- Distinguish between supervised, unsupervised, and reinforcement learning\n",
        "- Understand the complete machine learning workflow\n",
        "- Build and evaluate your first classification model\n",
        "- Work with different types of data (numerical, categorical, text, images)\n",
        "- Apply the end-to-end ML process: data → model → evaluation → insights\n",
        "\n",
        "## Prerequisites\n",
        "- Completed Module 2 (familiar with Python libraries and Jupyter/Colab)\n",
        "- Understanding of basic data operations and visualization\n",
        "- Access to your GitHub repository for saving work\n",
        "\n",
        "---\n",
        "\n",
        "## Part 1: Understanding Types of Machine Learning\n",
        "\n",
        "Machine learning can be categorized into three main types. Let's explore each with practical examples."
      ]
    },
    {
      "cell_type": "markdown",
      "metadata": {},
      "source": [
        "### 1. Supervised Learning\n",
        "**Definition**: Learning from labeled examples to make predictions on new, unseen data.\n",
        "\n",
        "**Examples**:\n",
        "- **Classification**: Predicting categories (spam/not spam, disease/healthy)\n",
        "- **Regression**: Predicting continuous values (house prices, temperature)\n",
        "\n",
        "**Key Characteristic**: We have both input features (X) and correct answers (y) during training.\n",
        "\n",
        "### 2. Unsupervised Learning\n",
        "**Definition**: Finding hidden patterns in data without labeled examples.\n",
        "\n",
        "**Examples**:\n",
        "- **Clustering**: Grouping similar customers for marketing\n",
        "- **Dimensionality Reduction**: Simplifying complex data while keeping important information\n",
        "\n",
        "**Key Characteristic**: We only have input features (X), no correct answers during training.\n",
        "\n",
        "### 3. Reinforcement Learning\n",
        "**Definition**: Learning through trial and error by receiving rewards or penalties.\n",
        "\n",
        "**Examples**:\n",
        "- Game playing (chess, Go)\n",
        "- Autonomous vehicles\n",
        "- Recommendation systems that learn from user feedback\n",
        "\n",
        "**Key Characteristic**: Agent learns by interacting with an environment and receiving feedback.\n",
        "\n",
        "**For this course, we'll focus primarily on supervised learning, with some unsupervised learning in later modules.**"
      ]
    },
    {
      "cell_type": "markdown",
      "metadata": {},
      "source": [
        "## Part 2: Setting Up Our Machine Learning Environment\n",
        "\n",
        "Let's start by importing our libraries and loading a dataset that will help us understand the ML workflow."
      ]
    },
    {
      "cell_type": "code",
      "execution_count": 17,
      "metadata": {},
      "outputs": [
        {
          "name": "stdout",
          "output_type": "stream",
          "text": [
            "Requirement already satisfied: seaborn in c:\\users\\rouge\\appdata\\local\\programs\\python\\python311\\lib\\site-packages (0.13.2)\n",
            "Requirement already satisfied: numpy!=1.24.0,>=1.20 in c:\\users\\rouge\\appdata\\local\\programs\\python\\python311\\lib\\site-packages (from seaborn) (2.3.3)\n",
            "Requirement already satisfied: pandas>=1.2 in c:\\users\\rouge\\appdata\\local\\programs\\python\\python311\\lib\\site-packages (from seaborn) (2.3.2)\n",
            "Requirement already satisfied: matplotlib!=3.6.1,>=3.4 in c:\\users\\rouge\\appdata\\local\\programs\\python\\python311\\lib\\site-packages (from seaborn) (3.10.6)\n",
            "Requirement already satisfied: contourpy>=1.0.1 in c:\\users\\rouge\\appdata\\local\\programs\\python\\python311\\lib\\site-packages (from matplotlib!=3.6.1,>=3.4->seaborn) (1.3.3)\n",
            "Requirement already satisfied: cycler>=0.10 in c:\\users\\rouge\\appdata\\local\\programs\\python\\python311\\lib\\site-packages (from matplotlib!=3.6.1,>=3.4->seaborn) (0.12.1)\n",
            "Requirement already satisfied: fonttools>=4.22.0 in c:\\users\\rouge\\appdata\\local\\programs\\python\\python311\\lib\\site-packages (from matplotlib!=3.6.1,>=3.4->seaborn) (4.60.0)\n",
            "Requirement already satisfied: kiwisolver>=1.3.1 in c:\\users\\rouge\\appdata\\local\\programs\\python\\python311\\lib\\site-packages (from matplotlib!=3.6.1,>=3.4->seaborn) (1.4.9)\n",
            "Requirement already satisfied: packaging>=20.0 in c:\\users\\rouge\\appdata\\roaming\\python\\python311\\site-packages (from matplotlib!=3.6.1,>=3.4->seaborn) (25.0)\n",
            "Requirement already satisfied: pillow>=8 in c:\\users\\rouge\\appdata\\local\\programs\\python\\python311\\lib\\site-packages (from matplotlib!=3.6.1,>=3.4->seaborn) (11.3.0)\n",
            "Requirement already satisfied: pyparsing>=2.3.1 in c:\\users\\rouge\\appdata\\local\\programs\\python\\python311\\lib\\site-packages (from matplotlib!=3.6.1,>=3.4->seaborn) (3.2.5)\n",
            "Requirement already satisfied: python-dateutil>=2.7 in c:\\users\\rouge\\appdata\\roaming\\python\\python311\\site-packages (from matplotlib!=3.6.1,>=3.4->seaborn) (2.9.0.post0)\n",
            "Requirement already satisfied: pytz>=2020.1 in c:\\users\\rouge\\appdata\\local\\programs\\python\\python311\\lib\\site-packages (from pandas>=1.2->seaborn) (2025.2)\n",
            "Requirement already satisfied: tzdata>=2022.7 in c:\\users\\rouge\\appdata\\local\\programs\\python\\python311\\lib\\site-packages (from pandas>=1.2->seaborn) (2025.2)\n",
            "Requirement already satisfied: six>=1.5 in c:\\users\\rouge\\appdata\\roaming\\python\\python311\\site-packages (from python-dateutil>=2.7->matplotlib!=3.6.1,>=3.4->seaborn) (1.17.0)\n"
          ]
        },
        {
          "name": "stderr",
          "output_type": "stream",
          "text": [
            "\n",
            "[notice] A new release of pip is available: 24.0 -> 25.2\n",
            "[notice] To update, run: python.exe -m pip install --upgrade pip\n"
          ]
        }
      ],
      "source": [
        "!pip install seaborn"
      ]
    },
    {
      "cell_type": "code",
      "execution_count": 18,
      "metadata": {},
      "outputs": [
        {
          "name": "stdout",
          "output_type": "stream",
          "text": [
            "✅ All libraries imported successfully!\n",
            "🚀 Ready to start our machine learning journey!\n"
          ]
        }
      ],
      "source": [
        "# Import essential libraries\n",
        "import pandas as pd\n",
        "import numpy as np\n",
        "import matplotlib.pyplot as plt\n",
        "import seaborn as sns\n",
        "from sklearn.datasets import load_wine, make_classification\n",
        "from sklearn.model_selection import train_test_split\n",
        "from sklearn.linear_model import LogisticRegression\n",
        "from sklearn.tree import DecisionTreeClassifier\n",
        "from sklearn.metrics import accuracy_score, classification_report, confusion_matrix\n",
        "from sklearn.preprocessing import StandardScaler\n",
        "import warnings\n",
        "warnings.filterwarnings('ignore')\n",
        "\n",
        "# Set style for better-looking plots\n",
        "plt.style.use('default')\n",
        "sns.set_palette(\"husl\")\n",
        "\n",
        "print(\"✅ All libraries imported successfully!\")\n",
        "print(\"🚀 Ready to start our machine learning journey!\")"
      ]
    },
    {
      "cell_type": "markdown",
      "metadata": {},
      "source": [
        "## Part 3: Loading and Exploring Our Dataset\n",
        "\n",
        "We'll use the Wine dataset - a classic dataset for classification. It contains chemical analysis of wines from three different cultivars (types) grown in Italy."
      ]
    },
    {
      "cell_type": "code",
      "execution_count": 19,
      "metadata": {},
      "outputs": [
        {
          "name": "stdout",
          "output_type": "stream",
          "text": [
            "Dataset Information:\n",
            "Shape: (178, 15)\n",
            "Features: 13\n",
            "Classes: ['class_0' 'class_1' 'class_2']\n",
            "\n",
            "First 5 rows:\n",
            "   alcohol  malic_acid   ash  alcalinity_of_ash  magnesium  total_phenols  \\\n",
            "0    14.23        1.71  2.43               15.6      127.0           2.80   \n",
            "1    13.20        1.78  2.14               11.2      100.0           2.65   \n",
            "2    13.16        2.36  2.67               18.6      101.0           2.80   \n",
            "3    14.37        1.95  2.50               16.8      113.0           3.85   \n",
            "4    13.24        2.59  2.87               21.0      118.0           2.80   \n",
            "\n",
            "   flavanoids  nonflavanoid_phenols  proanthocyanins  color_intensity   hue  \\\n",
            "0        3.06                  0.28             2.29             5.64  1.04   \n",
            "1        2.76                  0.26             1.28             4.38  1.05   \n",
            "2        3.24                  0.30             2.81             5.68  1.03   \n",
            "3        3.49                  0.24             2.18             7.80  0.86   \n",
            "4        2.69                  0.39             1.82             4.32  1.04   \n",
            "\n",
            "   od280/od315_of_diluted_wines  proline  wine_class wine_class_name  \n",
            "0                          3.92   1065.0           0         class_0  \n",
            "1                          3.40   1050.0           0         class_0  \n",
            "2                          3.17   1185.0           0         class_0  \n",
            "3                          3.45   1480.0           0         class_0  \n",
            "4                          2.93    735.0           0         class_0  \n"
          ]
        }
      ],
      "source": [
        "# Load the Wine dataset\n",
        "wine_data = load_wine()\n",
        "\n",
        "# Convert to DataFrame for easier handling\n",
        "df = pd.DataFrame(wine_data.data, columns=wine_data.feature_names)\n",
        "df['wine_class'] = wine_data.target\n",
        "df['wine_class_name'] = [wine_data.target_names[i] for i in wine_data.target]\n",
        "\n",
        "print(\"Dataset Information:\")\n",
        "print(f\"Shape: {df.shape}\")\n",
        "print(f\"Features: {len(wine_data.feature_names)}\")\n",
        "print(f\"Classes: {wine_data.target_names}\")\n",
        "print(f\"\\nFirst 5 rows:\")\n",
        "print(df.head())"
      ]
    },
    {
      "cell_type": "code",
      "execution_count": 20,
      "metadata": {},
      "outputs": [
        {
          "name": "stdout",
          "output_type": "stream",
          "text": [
            "Dataset Overview:\n",
            "==================================================\n",
            "Total samples: 178\n",
            "Features (input variables): 13\n",
            "Target classes: [np.str_('class_0') np.str_('class_1') np.str_('class_2')]\n",
            "\n",
            "Class distribution:\n",
            "wine_class_name\n",
            "class_1    71\n",
            "class_0    59\n",
            "class_2    48\n",
            "Name: count, dtype: int64\n",
            "\n",
            "Missing values: 0\n",
            "✅ No missing values - this is a clean dataset!\n"
          ]
        }
      ],
      "source": [
        "# Explore the dataset structure\n",
        "print(\"Dataset Overview:\")\n",
        "print(\"=\" * 50)\n",
        "print(f\"Total samples: {len(df)}\")\n",
        "print(f\"Features (input variables): {len(df.columns) - 2}\")  # -2 for target columns\n",
        "print(f\"Target classes: {df['wine_class_name'].unique()}\")\n",
        "print(f\"\\nClass distribution:\")\n",
        "print(df['wine_class_name'].value_counts())\n",
        "\n",
        "# Check for missing values\n",
        "print(f\"\\nMissing values: {df.isnull().sum().sum()}\")\n",
        "print(\"✅ No missing values - this is a clean dataset!\")"
      ]
    },
    {
      "cell_type": "markdown",
      "metadata": {},
      "source": [
        "## Part 4: Exploratory Data Analysis (EDA)\n",
        "\n",
        "Before building models, we need to understand our data. This is a crucial step in the ML workflow."
      ]
    },
    {
      "cell_type": "code",
      "execution_count": 21,
      "metadata": {},
      "outputs": [
        {
          "data": {
            "image/png": "[encoded data removed]",
            "text/plain": [
              "<Figure size 1200x400 with 3 Axes>"
            ]
          },
          "metadata": {},
          "output_type": "display_data"
        },
        {
          "name": "stdout",
          "output_type": "stream",
          "text": [
            "📊 EDA helps us understand:\n",
            "- Class balance (are all classes equally represented?)\n",
            "- Feature relationships (which features are correlated?)\n",
            "- Data quality (any outliers or issues?)\n"
          ]
        }
      ],
      "source": [
        "# Visualize class distribution\n",
        "plt.figure(figsize=(12, 4))\n",
        "\n",
        "# Subplot 1: Class distribution\n",
        "plt.subplot(1, 2, 1)\n",
        "class_counts = df['wine_class_name'].value_counts()\n",
        "plt.bar(class_counts.index, class_counts.values, color=['red', 'green', 'blue'])\n",
        "plt.title('Distribution of Wine Classes')\n",
        "plt.xlabel('Wine Class')\n",
        "plt.ylabel('Number of Samples')\n",
        "plt.xticks(rotation=45)\n",
        "\n",
        "# Subplot 2: Feature correlation heatmap (first 6 features for clarity)\n",
        "plt.subplot(1, 2, 2)\n",
        "correlation_matrix = df.iloc[:, :6].corr()\n",
        "sns.heatmap(correlation_matrix, annot=True, cmap='coolwarm', center=0, fmt='.2f')\n",
        "plt.title('Feature Correlations (First 6 Features)')\n",
        "\n",
        "plt.tight_layout()\n",
        "plt.show()\n",
        "\n",
        "print(\"📊 EDA helps us understand:\")\n",
        "print(\"- Class balance (are all classes equally represented?)\")\n",
        "print(\"- Feature relationships (which features are correlated?)\")\n",
        "print(\"- Data quality (any outliers or issues?)\")"
      ]
    },
    {
      "cell_type": "markdown",
      "metadata": {},
      "source": [
        "## Part 5: The Complete Machine Learning Workflow\n",
        "\n",
        "Now let's implement the standard ML workflow step by step:\n",
        "\n",
        "### The 6-Step ML Workflow:\n",
        "1. **Data Preparation**: Clean and prepare the data\n",
        "2. **Feature Selection**: Choose relevant input variables\n",
        "3. **Data Splitting**: Separate training and testing data\n",
        "4. **Model Training**: Teach the algorithm using training data\n",
        "5. **Model Evaluation**: Test performance on unseen data\n",
        "6. **Model Interpretation**: Understand what the model learned\n",
        "\n",
        "Let's implement each step!"
      ]
    },
    {
      "cell_type": "code",
      "execution_count": 22,
      "metadata": {},
      "outputs": [
        {
          "name": "stdout",
          "output_type": "stream",
          "text": [
            "Step 1: Data Preparation\n",
            "==============================\n",
            "Selected features: ['alcohol', 'malic_acid', 'ash', 'alcalinity_of_ash']\n",
            "Feature matrix shape: (178, 4)\n",
            "Target vector shape: (178,)\n",
            "\n",
            "First 5 samples:\n",
            "   alcohol  malic_acid   ash  alcalinity_of_ash\n",
            "0    14.23        1.71  2.43               15.6\n",
            "1    13.20        1.78  2.14               11.2\n",
            "2    13.16        2.36  2.67               18.6\n",
            "3    14.37        1.95  2.50               16.8\n",
            "4    13.24        2.59  2.87               21.0\n"
          ]
        }
      ],
      "source": [
        "# Step 1: Data Preparation\n",
        "print(\"Step 1: Data Preparation\")\n",
        "print(\"=\" * 30)\n",
        "\n",
        "# Select features (X) and target (y)\n",
        "# For simplicity, let's use the first 4 features\n",
        "feature_names = ['alcohol', 'malic_acid', 'ash', 'alcalinity_of_ash']\n",
        "X = df[feature_names]\n",
        "y = df['wine_class']\n",
        "\n",
        "print(f\"Selected features: {feature_names}\")\n",
        "print(f\"Feature matrix shape: {X.shape}\")\n",
        "print(f\"Target vector shape: {y.shape}\")\n",
        "\n",
        "# Display first few rows\n",
        "print(\"\\nFirst 5 samples:\")\n",
        "print(X.head())"
      ]
    },
    {
      "cell_type": "code",
      "execution_count": 23,
      "metadata": {},
      "outputs": [
        {
          "name": "stdout",
          "output_type": "stream",
          "text": [
            "Step 2: Data Splitting\n",
            "==============================\n",
            "Training set: 142 samples\n",
            "Testing set: 36 samples\n",
            "Training classes: [47 57 38]\n",
            "Testing classes: [12 14 10]\n",
            "\n",
            "🎯 Why split data?\n",
            "- Training set: Teach the model\n",
            "- Testing set: Evaluate performance on unseen data\n",
            "- This prevents overfitting (memorizing vs. learning)\n"
          ]
        }
      ],
      "source": [
        "# Step 2: Data Splitting\n",
        "print(\"Step 2: Data Splitting\")\n",
        "print(\"=\" * 30)\n",
        "\n",
        "# Split data into training (80%) and testing (20%) sets\n",
        "X_train, X_test, y_train, y_test = train_test_split(\n",
        "    X, y, \n",
        "    test_size=0.2,      # 20% for testing\n",
        "    random_state=42,    # For reproducible results\n",
        "    stratify=y          # Maintain class proportions\n",
        ")\n",
        "\n",
        "print(f\"Training set: {X_train.shape[0]} samples\")\n",
        "print(f\"Testing set: {X_test.shape[0]} samples\")\n",
        "print(f\"Training classes: {np.bincount(y_train)}\")\n",
        "print(f\"Testing classes: {np.bincount(y_test)}\")\n",
        "\n",
        "print(\"\\n🎯 Why split data?\")\n",
        "print(\"- Training set: Teach the model\")\n",
        "print(\"- Testing set: Evaluate performance on unseen data\")\n",
        "print(\"- This prevents overfitting (memorizing vs. learning)\")"
      ]
    },
    {
      "cell_type": "code",
      "execution_count": 24,
      "metadata": {},
      "outputs": [
        {
          "name": "stdout",
          "output_type": "stream",
          "text": [
            "Step 3: Model Training\n",
            "==============================\n",
            "\n",
            "Training Logistic Regression...\n",
            "✅ Logistic Regression training completed!\n",
            "\n",
            "Training Decision Tree...\n",
            "✅ Decision Tree training completed!\n",
            "\n",
            "🤖 What happened during training?\n",
            "- Models learned patterns from training data\n",
            "- They found relationships between features and wine classes\n",
            "- Now they can make predictions on new data!\n"
          ]
        }
      ],
      "source": [
        "# Step 3: Model Training\n",
        "print(\"Step 3: Model Training\")\n",
        "print(\"=\" * 30)\n",
        "\n",
        "# Create and train two different models\n",
        "models = {\n",
        "    'Logistic Regression': LogisticRegression(random_state=42),\n",
        "    'Decision Tree': DecisionTreeClassifier(random_state=42, max_depth=3)\n",
        "}\n",
        "\n",
        "trained_models = {}\n",
        "\n",
        "for name, model in models.items():\n",
        "    print(f\"\\nTraining {name}...\")\n",
        "    \n",
        "    # Train the model\n",
        "    model.fit(X_train, y_train)\n",
        "    trained_models[name] = model\n",
        "    \n",
        "    print(f\"✅ {name} training completed!\")\n",
        "\n",
        "print(\"\\n🤖 What happened during training?\")\n",
        "print(\"- Models learned patterns from training data\")\n",
        "print(\"- They found relationships between features and wine classes\")\n",
        "print(\"- Now they can make predictions on new data!\")"
      ]
    },
    {
      "cell_type": "code",
      "execution_count": 25,
      "metadata": {},
      "outputs": [
        {
          "name": "stdout",
          "output_type": "stream",
          "text": [
            "Step 4: Model Evaluation\n",
            "==============================\n",
            "\n",
            "Logistic Regression Results:\n",
            "Accuracy: 0.889 (88.9%)\n",
            "\n",
            "Detailed Performance:\n",
            "              precision    recall  f1-score   support\n",
            "\n",
            "     class_0       1.00      1.00      1.00        12\n",
            "     class_1       0.81      0.93      0.87        14\n",
            "     class_2       0.88      0.70      0.78        10\n",
            "\n",
            "    accuracy                           0.89        36\n",
            "   macro avg       0.90      0.88      0.88        36\n",
            "weighted avg       0.89      0.89      0.89        36\n",
            "\n",
            "\n",
            "Decision Tree Results:\n",
            "Accuracy: 0.833 (83.3%)\n",
            "\n",
            "Detailed Performance:\n",
            "              precision    recall  f1-score   support\n",
            "\n",
            "     class_0       0.86      1.00      0.92        12\n",
            "     class_1       0.91      0.71      0.80        14\n",
            "     class_2       0.73      0.80      0.76        10\n",
            "\n",
            "    accuracy                           0.83        36\n",
            "   macro avg       0.83      0.84      0.83        36\n",
            "weighted avg       0.84      0.83      0.83        36\n",
            "\n",
            "\n",
            "📊 Model Comparison:\n",
            "Logistic Regression: 0.889\n",
            "Decision Tree: 0.833\n",
            "\n",
            "🏆 Best performing model: Logistic Regression\n"
          ]
        }
      ],
      "source": [
        "# Step 4: Model Evaluation\n",
        "print(\"Step 4: Model Evaluation\")\n",
        "print(\"=\" * 30)\n",
        "\n",
        "results = {}\n",
        "\n",
        "for name, model in trained_models.items():\n",
        "    # Make predictions\n",
        "    y_pred = model.predict(X_test)\n",
        "    \n",
        "    # Calculate accuracy\n",
        "    accuracy = accuracy_score(y_test, y_pred)\n",
        "    results[name] = accuracy\n",
        "    \n",
        "    print(f\"\\n{name} Results:\")\n",
        "    print(f\"Accuracy: {accuracy:.3f} ({accuracy*100:.1f}%)\")\n",
        "    \n",
        "    # Detailed classification report\n",
        "    print(\"\\nDetailed Performance:\")\n",
        "    print(classification_report(y_test, y_pred, target_names=wine_data.target_names))\n",
        "\n",
        "# Compare models\n",
        "print(\"\\n📊 Model Comparison:\")\n",
        "for name, accuracy in results.items():\n",
        "    print(f\"{name}: {accuracy:.3f}\")\n",
        "    \n",
        "best_model = max(results, key=results.get)\n",
        "print(f\"\\n🏆 Best performing model: {best_model}\")"
      ]
    },
    {
      "cell_type": "code",
      "execution_count": 26,
      "metadata": {},
      "outputs": [
        {
          "name": "stdout",
          "output_type": "stream",
          "text": [
            "Step 5: Model Interpretation\n",
            "==============================\n"
          ]
        },
        {
          "data": {
            "image/png": "[encoded data removed]",
            "text/plain": [
              "<Figure size 800x600 with 2 Axes>"
            ]
          },
          "metadata": {},
          "output_type": "display_data"
        },
        {
          "name": "stdout",
          "output_type": "stream",
          "text": [
            "\n",
            "🔍 Interpreting the Confusion Matrix:\n",
            "- Diagonal values: Correct predictions\n",
            "- Off-diagonal values: Misclassifications\n",
            "- Perfect model would have all values on diagonal\n"
          ]
        }
      ],
      "source": [
        "# Step 5: Model Interpretation\n",
        "print(\"Step 5: Model Interpretation\")\n",
        "print(\"=\" * 30)\n",
        "\n",
        "# Visualize confusion matrix for the best model\n",
        "best_model_obj = trained_models[best_model]\n",
        "y_pred_best = best_model_obj.predict(X_test)\n",
        "\n",
        "plt.figure(figsize=(8, 6))\n",
        "cm = confusion_matrix(y_test, y_pred_best)\n",
        "sns.heatmap(cm, annot=True, fmt='d', cmap='Blues', \n",
        "            xticklabels=wine_data.target_names,\n",
        "            yticklabels=wine_data.target_names)\n",
        "plt.title(f'Confusion Matrix - {best_model}')\n",
        "plt.xlabel('Predicted Class')\n",
        "plt.ylabel('True Class')\n",
        "plt.show()\n",
        "\n",
        "print(f\"\\n🔍 Interpreting the Confusion Matrix:\")\n",
        "print(\"- Diagonal values: Correct predictions\")\n",
        "print(\"- Off-diagonal values: Misclassifications\")\n",
        "print(\"- Perfect model would have all values on diagonal\")"
      ]
    },
    {
      "cell_type": "markdown",
      "metadata": {},
      "source": [
        "## Part 6: Understanding Different Data Types in ML\n",
        "\n",
        "Machine learning works with various types of data. Let's explore the main categories:"
      ]
    },
    {
      "cell_type": "code",
      "execution_count": 27,
      "metadata": {},
      "outputs": [
        {
          "name": "stdout",
          "output_type": "stream",
          "text": [
            "Understanding Data Types in Machine Learning\n",
            "=============================================\n",
            "\n",
            "Numerical (Continuous):\n",
            "  Examples: [23.5, 45.2, 67.8, 12.1, 89.3]\n",
            "  Use case: Regression problems (predicting prices, temperatures)\n",
            "\n",
            "Numerical (Discrete):\n",
            "  Examples: [1, 5, 3, 8, 2]\n",
            "  Use case: Counting problems (number of items, ratings)\n",
            "\n",
            "Categorical (Nominal):\n",
            "  Examples: ['Red', 'Blue', 'Green', 'Red', 'Blue']\n",
            "  Use case: Classification without order (colors, categories)\n",
            "\n",
            "Categorical (Ordinal):\n",
            "  Examples: ['Low', 'Medium', 'High', 'Medium', 'Low']\n",
            "  Use case: Classification with order (ratings, sizes)\n",
            "\n",
            "Text:\n",
            "  Examples: ['Hello world', 'Machine learning', 'Data science', 'Python programming', 'AI revolution']\n",
            "  Use case: Natural language processing (sentiment analysis, translation)\n",
            "\n",
            "Boolean:\n",
            "  Examples: [True, False, True, True, False]\n",
            "  Use case: Binary classification (yes/no, spam/not spam)\n",
            "\n",
            "💡 Key Insight: Different data types require different preprocessing and algorithms!\n"
          ]
        }
      ],
      "source": [
        "# Understanding Different Data Types in ML\n",
        "print(\"Understanding Data Types in Machine Learning\")\n",
        "print(\"=\" * 45)\n",
        "\n",
        "# Create examples of different data types\n",
        "data_examples = {\n",
        "    'Numerical (Continuous)': [23.5, 45.2, 67.8, 12.1, 89.3],\n",
        "    'Numerical (Discrete)': [1, 5, 3, 8, 2],\n",
        "    'Categorical (Nominal)': ['Red', 'Blue', 'Green', 'Red', 'Blue'],\n",
        "    'Categorical (Ordinal)': ['Low', 'Medium', 'High', 'Medium', 'Low'],\n",
        "    'Text': ['Hello world', 'Machine learning', 'Data science', 'Python programming', 'AI revolution'],\n",
        "    'Boolean': [True, False, True, True, False]\n",
        "}\n",
        "\n",
        "for data_type, examples in data_examples.items():\n",
        "    print(f\"\\n{data_type}:\")\n",
        "    print(f\"  Examples: {examples}\")\n",
        "    print(f\"  Use case: \", end=\"\")\n",
        "    \n",
        "    if 'Continuous' in data_type:\n",
        "        print(\"Regression problems (predicting prices, temperatures)\")\n",
        "    elif 'Discrete' in data_type:\n",
        "        print(\"Counting problems (number of items, ratings)\")\n",
        "    elif 'Nominal' in data_type:\n",
        "        print(\"Classification without order (colors, categories)\")\n",
        "    elif 'Ordinal' in data_type:\n",
        "        print(\"Classification with order (ratings, sizes)\")\n",
        "    elif 'Text' in data_type:\n",
        "        print(\"Natural language processing (sentiment analysis, translation)\")\n",
        "    elif 'Boolean' in data_type:\n",
        "        print(\"Binary classification (yes/no, spam/not spam)\")\n",
        "\n",
        "print(\"\\n💡 Key Insight: Different data types require different preprocessing and algorithms!\")"
      ]
    },
    {
      "cell_type": "markdown",
      "metadata": {},
      "source": [
        "## Part 7: Hands-On Practice - Build Your Own Model\n",
        "\n",
        "Now it's your turn! Complete the following tasks to reinforce your learning."
      ]
    },
    {
      "cell_type": "code",
      "execution_count": 28,
      "metadata": {},
      "outputs": [
        {
          "name": "stdout",
          "output_type": "stream",
          "text": [
            "Task 1: Experiment with Different Features\n",
            "========================================\n",
            "Available features:\n",
            " 1. alcohol\n",
            " 2. malic_acid\n",
            " 3. ash\n",
            " 4. alcalinity_of_ash\n",
            " 5. magnesium\n",
            " 6. total_phenols\n",
            " 7. flavanoids\n",
            " 8. nonflavanoid_phenols\n",
            " 9. proanthocyanins\n",
            "10. color_intensity\n",
            "11. hue\n",
            "12. od280/od315_of_diluted_wines\n",
            "13. proline\n",
            "\n",
            "Your model features: ['alcohol', 'hue', 'proline']\n",
            "Your model accuracy: 0.972 (97.2%)\n",
            "Original model accuracy: 0.889\n",
            "🎉 Great job! Your feature selection improved the model!\n"
          ]
        }
      ],
      "source": [
        "# Task 1: Try different features\n",
        "print(\"Task 1: Experiment with Different Features\")\n",
        "print(\"=\" * 40)\n",
        "\n",
        "# Your task: Select 3 different features and build a model\n",
        "# Available features:\n",
        "print(\"Available features:\")\n",
        "for i, feature in enumerate(wine_data.feature_names):\n",
        "    print(f\"{i+1:2d}. {feature}\")\n",
        "\n",
        "# TODO: Replace these with your chosen features\n",
        "your_features = ['alcohol', 'hue', 'proline']  # Modify this list\n",
        "\n",
        "# Build model with your features\n",
        "X_your = df[your_features]\n",
        "X_train_your, X_test_your, y_train_your, y_test_your = train_test_split(\n",
        "    X_your, y, test_size=0.2, random_state=42, stratify=y\n",
        ")\n",
        "\n",
        "# Train a logistic regression model\n",
        "your_model = LogisticRegression(random_state=42)\n",
        "your_model.fit(X_train_your, y_train_your)\n",
        "\n",
        "# Evaluate\n",
        "y_pred_your = your_model.predict(X_test_your)\n",
        "your_accuracy = accuracy_score(y_test_your, y_pred_your)\n",
        "\n",
        "print(f\"\\nYour model features: {your_features}\")\n",
        "print(f\"Your model accuracy: {your_accuracy:.3f} ({your_accuracy*100:.1f}%)\")\n",
        "\n",
        "# Compare with original model\n",
        "print(f\"Original model accuracy: {results['Logistic Regression']:.3f}\")\n",
        "if your_accuracy > results['Logistic Regression']:\n",
        "    print(\"🎉 Great job! Your feature selection improved the model!\")\n",
        "else:\n",
        "    print(\"🤔 Try different features to see if you can improve performance!\")"
      ]
    },
    {
      "cell_type": "markdown",
      "metadata": {},
      "source": [
        "## Part 8: Assessment - Understanding ML Concepts\n",
        "\n",
        "Answer the following questions to demonstrate your understanding:"
      ]
    },
    {
      "cell_type": "code",
      "execution_count": 29,
      "metadata": {},
      "outputs": [
        {
          "name": "stdout",
          "output_type": "stream",
          "text": [
            "Assessment Task 1: Identify Machine Learning Types\n",
            "==================================================\n",
            "Scenario Analysis:\n",
            "✅ 1. Predicting house prices based on size, location, and age\n",
            "   Your answer: Supervised | Correct: Supervised\n",
            "\n",
            "✅ 2. Grouping customers by purchasing behavior without knowing groups beforehand\n",
            "   Your answer: Unsupervised | Correct: Unsupervised\n",
            "\n",
            "✅ 3. Teaching a robot to play chess by playing many games\n",
            "   Your answer: Reinforcement | Correct: Reinforcement\n",
            "\n",
            "✅ 4. Classifying emails as spam or not spam using labeled examples\n",
            "   Your answer: Supervised | Correct: Supervised\n",
            "\n",
            "✅ 5. Finding hidden topics in news articles without predefined categories\n",
            "   Your answer: Unsupervised | Correct: Unsupervised\n",
            "\n",
            "Score: 5/5 (100%)\n"
          ]
        }
      ],
      "source": [
        "# Assessment Task 1: Identify the ML type\n",
        "print(\"Assessment Task 1: Identify Machine Learning Types\")\n",
        "print(\"=\" * 50)\n",
        "\n",
        "# For each scenario, identify if it's Supervised, Unsupervised, or Reinforcement Learning\n",
        "\n",
        "scenarios = [\n",
        "    \"Predicting house prices based on size, location, and age\",\n",
        "    \"Grouping customers by purchasing behavior without knowing groups beforehand\",\n",
        "    \"Teaching a robot to play chess by playing many games\",\n",
        "    \"Classifying emails as spam or not spam using labeled examples\",\n",
        "    \"Finding hidden topics in news articles without predefined categories\"\n",
        "]\n",
        "\n",
        "# Your answers (replace 'TYPE' with Supervised, Unsupervised, or Reinforcement)\n",
        "your_answers = [\n",
        "    \"Supervised\",      # Scenario 1\n",
        "    \"Unsupervised\",    # Scenario 2  \n",
        "    \"Reinforcement\",   # Scenario 3\n",
        "    \"Supervised\",      # Scenario 4\n",
        "    \"Unsupervised\"     # Scenario 5\n",
        "]\n",
        "\n",
        "# Check answers\n",
        "correct_answers = [\"Supervised\", \"Unsupervised\", \"Reinforcement\", \"Supervised\", \"Unsupervised\"]\n",
        "\n",
        "print(\"Scenario Analysis:\")\n",
        "score = 0\n",
        "for i, (scenario, your_answer, correct) in enumerate(zip(scenarios, your_answers, correct_answers)):\n",
        "    is_correct = your_answer == correct\n",
        "    score += is_correct\n",
        "    status = \"✅\" if is_correct else \"❌\"\n",
        "    print(f\"{status} {i+1}. {scenario}\")\n",
        "    print(f\"   Your answer: {your_answer} | Correct: {correct}\")\n",
        "    print()\n",
        "\n",
        "print(f\"Score: {score}/{len(scenarios)} ({score/len(scenarios)*100:.0f}%)\")"
      ]
    },
    {
      "cell_type": "markdown",
      "metadata": {},
      "source": [
        "## Part 9: Real-World Applications and Case Studies\n",
        "\n",
        "Let's explore how the concepts we've learned apply to real-world scenarios.\n",
        "\n",
        "### Case Study 1: Recommendation Systems (Netflix, Amazon)\n",
        "**Problem**: Suggest movies/products users might like\n",
        "**ML Type**: Hybrid (Supervised + Unsupervised + Reinforcement)\n",
        "**Data**: User ratings, viewing history, product features\n",
        "**Workflow**: Collect data → Build user profiles → Train models → Make recommendations → Learn from feedback\n",
        "\n",
        "### Case Study 2: Fraud Detection (Banks, Credit Cards)\n",
        "**Problem**: Identify fraudulent transactions\n",
        "**ML Type**: Supervised Learning (Classification)\n",
        "**Data**: Transaction amounts, locations, times, merchant types\n",
        "**Workflow**: Historical fraud data → Feature engineering → Train classifier → Real-time scoring → Continuous monitoring\n",
        "\n",
        "### Case Study 3: Medical Diagnosis (Healthcare)\n",
        "**Problem**: Assist doctors in diagnosing diseases\n",
        "**ML Type**: Supervised Learning (Classification)\n",
        "**Data**: Medical images, patient symptoms, lab results\n",
        "**Workflow**: Labeled medical data → Image processing → Train deep learning models → Clinical validation → Deployment with human oversight\n",
        "\n",
        "### Your Turn: Think of Applications\n",
        "Consider these industries and think about how ML could be applied:\n",
        "- **Transportation**: Autonomous vehicles, route optimization\n",
        "- **Agriculture**: Crop monitoring, yield prediction\n",
        "- **Education**: Personalized learning, automated grading\n",
        "- **Entertainment**: Content creation, game AI"
      ]
    },
    {
      "cell_type": "markdown",
      "metadata": {},
      "source": [
        "## Part 10: Complete ML Workflow Summary\n",
        "\n",
        "Let's summarize the complete machine learning workflow we've learned:\n",
        "\n",
        "### 🔄 The Machine Learning Lifecycle\n",
        "\n",
        "```\n",
        "1. Problem Definition\n",
        "   ↓\n",
        "2. Data Collection & Exploration\n",
        "   ↓\n",
        "3. Data Preprocessing & Feature Engineering\n",
        "   ↓\n",
        "4. Model Selection & Training\n",
        "   ↓\n",
        "5. Model Evaluation & Validation\n",
        "   ↓\n",
        "6. Model Deployment & Monitoring\n",
        "   ↓\n",
        "7. Continuous Improvement\n",
        "```\n",
        "\n",
        "### 📋 Checklist for Every ML Project:\n",
        "\n",
        "**Data Phase:**\n",
        "- [ ] Understand the problem and define success metrics\n",
        "- [ ] Collect and explore the dataset\n",
        "- [ ] Check for missing values, outliers, and data quality issues\n",
        "- [ ] Visualize data to understand patterns and relationships\n",
        "\n",
        "**Modeling Phase:**\n",
        "- [ ] Split data into training and testing sets\n",
        "- [ ] Select appropriate algorithms for the problem type\n",
        "- [ ] Train multiple models and compare performance\n",
        "- [ ] Evaluate using appropriate metrics (accuracy, precision, recall, etc.)\n",
        "\n",
        "**Deployment Phase:**\n",
        "- [ ] Validate model performance on new data\n",
        "- [ ] Document the model and its limitations\n",
        "- [ ] Deploy responsibly with monitoring systems\n",
        "- [ ] Plan for model updates and maintenance\n",
        "\n",
        "### 🎯 Key Takeaways:\n",
        "1. **Start Simple**: Begin with basic models before trying complex ones\n",
        "2. **Understand Your Data**: EDA is crucial for success\n",
        "3. **Validate Properly**: Always test on unseen data\n",
        "4. **Iterate**: ML is an iterative process of improvement\n",
        "5. **Document Everything**: Keep track of experiments and results"
      ]
    },
    {
      "cell_type": "markdown",
      "metadata": {},
      "source": [
        "## Your Reflection and Analysis\n",
        "\n",
        "**Instructions**: Complete the reflection below by editing this markdown cell.\n",
        "\n",
        "### My Understanding of Machine Learning Types\n",
        "\n",
        "**Supervised Learning**: Using labeled data to make predictions\n",
        "\n",
        "**Unsupervised Learning**: Using unlabeled data to find patterns\n",
        "\n",
        "**Reinforcement Learning**: Operates on a reward system/feedback loop\n",
        "\n",
        "### My Analysis of the Wine Classification Project\n",
        "\n",
        "**Best performing model**: Logisitc Regression\n",
        "\n",
        "**Why do you think this model performed better?**: I believed this model performed better, because the data was well-structured which makes learning the patterns more easily.\n",
        "\n",
        "**What would you try next to improve performance?**: My idea would be to add more features to improve the results/accuracy, because this would allow the ML to feed off of more relational data.\n",
        "\n",
        "### Real-World Application Ideas\n",
        "\n",
        "**Industry of Interest**: Environmental Studies\n",
        "\n",
        "**ML Problem**: Predicting areas at risk of deforestation or identifying pollution patterns using satellite images.\n",
        "\n",
        "**Type of ML**: Supervised Learning\n",
        "\n",
        "**Data Needed**: Satellite images, deforestation maps, carbon emission data\n",
        "\n",
        "### Key Learnings\n",
        "\n",
        "**Most important concept learned**: I learned how different models work along with training my first model to produce the best results. I also learned how important ML workflow is to have functioning models that have little to no error.\n",
        "\n",
        "**Most challenging part**: The most challenging part for me was finding out which three features gave the highest model accuracy, but I found the highest to be alcohol, proline, and hue.\n",
        "\n",
        "**Questions for further exploration**: Can you make another ML to test out the features then come out with the best results by itself?"
      ]
    },
    {
      "cell_type": "markdown",
      "metadata": {},
      "source": [
        "## Lab Summary and Next Steps\n",
        "\n",
        "### 🎯 What You've Accomplished:\n",
        "✅ **Understood ML Types**: Supervised, Unsupervised, and Reinforcement Learning  \n",
        "✅ **Mastered ML Workflow**: Data → Model → Evaluation → Insights  \n",
        "✅ **Built Classification Models**: Logistic Regression and Decision Trees  \n",
        "✅ **Evaluated Model Performance**: Accuracy, Confusion Matrix, Classification Report  \n",
        "✅ **Worked with Real Data**: Wine dataset analysis and modeling  \n",
        "✅ **Applied Best Practices**: Data splitting, model comparison, interpretation  \n",
        "\n",
        "### 🚀 Preparation for Module 4:\n",
        "In the next lab, you'll dive deeper into:\n",
        "- **Exploratory Data Analysis (EDA)**: Advanced visualization techniques\n",
        "- **Data Quality Assessment**: Handling missing values, outliers, and duplicates\n",
        "- **Statistical Analysis**: Understanding distributions and relationships\n",
        "- **Data Storytelling**: Communicating insights effectively\n",
        "\n",
        "### 📝 Action Items:\n",
        "1. **Upload this notebook** to your GitHub repository\n",
        "2. **Experiment** with different features in the wine dataset\n",
        "3. **Try other datasets** from sklearn.datasets (digits, breast_cancer, boston)\n",
        "4. **Practice** the 6-step ML workflow on a new problem\n",
        "5. **Document** your experiments and findings\n",
        "\n",
        "### 🔗 Additional Resources:\n",
        "- [Scikit-learn User Guide](https://scikit-learn.org/stable/user_guide.html)\n",
        "- [Machine Learning Mastery](https://machinelearningmastery.com/)\n",
        "- [Kaggle Learn](https://www.kaggle.com/learn) - Free micro-courses\n",
        "- [Google's Machine Learning Crash Course](https://developers.google.com/machine-learning/crash-course)\n",
        "\n",
        "### 💭 Reflection Questions:\n",
        "1. Which type of machine learning (supervised/unsupervised/reinforcement) interests you most and why?\n",
        "2. What was the most challenging part of the ML workflow for you?\n",
        "3. How might you apply these concepts to a problem in your field of interest?\n",
        "4. What questions do you have about machine learning that you'd like to explore further?\n",
        "\n",
        "**Congratulations on completing Module 3! You've taken a significant step in your machine learning journey.** 🎉\n",
        "\n",
        "---\n",
        "\n",
        "*Remember: Machine learning is a skill that improves with practice. Keep experimenting, stay curious, and don't be afraid to make mistakes - they're part of the learning process!*"
      ]
    }
  ],
  "metadata": {
    "kernelspec": {
      "display_name": "Python 3",
      "language": "python",
      "name": "python3"
    },
    "language_info": {
      "codemirror_mode": {
        "name": "ipython",
        "version": 3
      },
      "file_extension": ".py",
      "mimetype": "text/x-python",
      "name": "python",
      "nbconvert_exporter": "python",
      "pygments_lexer": "ipython3",
      "version": "3.11.9"
    }
  },
  "nbformat": 4,
  "nbformat_minor": 4
}
